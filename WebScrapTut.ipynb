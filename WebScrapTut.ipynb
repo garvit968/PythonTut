{
  "nbformat": 4,
  "nbformat_minor": 0,
  "metadata": {
    "colab": {
      "provenance": [],
      "authorship_tag": "ABX9TyNW4Wj+ohHKoBeyfOEvWaii",
      "include_colab_link": true
    },
    "kernelspec": {
      "name": "python3",
      "display_name": "Python 3"
    },
    "language_info": {
      "name": "python"
    }
  },
  "cells": [
    {
      "cell_type": "markdown",
      "metadata": {
        "id": "view-in-github",
        "colab_type": "text"
      },
      "source": [
        "<a href=\"https://colab.research.google.com/github/garvit968/PythonTut/blob/main/WebScrapTut.ipynb\" target=\"_parent\"><img src=\"https://colab.research.google.com/assets/colab-badge.svg\" alt=\"Open In Colab\"/></a>"
      ]
    },
    {
      "cell_type": "code",
      "execution_count": null,
      "metadata": {
        "id": "ZftDNWZXl63d"
      },
      "outputs": [],
      "source": [
        "import requests\n",
        "from bs4 import BeautifulSoup"
      ]
    },
    {
      "cell_type": "code",
      "source": [
        "url=\"https://webscraper.io/test-sites/e-commerce/allinone/computers/tablets\"\n",
        "r=requests.get(url)\n",
        "print(r)"
      ],
      "metadata": {
        "colab": {
          "base_uri": "https://localhost:8080/"
        },
        "id": "T1rcAbBumMSc",
        "outputId": "d1ed56b3-98ae-4682-d40d-d5e32c568db7"
      },
      "execution_count": null,
      "outputs": [
        {
          "output_type": "stream",
          "name": "stdout",
          "text": [
            "<Response [200]>\n"
          ]
        }
      ]
    },
    {
      "cell_type": "code",
      "source": [
        "soup= BeautifulSoup(r.text,\"lxml\")\n",
        "print(soup.find('h4',{\"class\":\"float-end price card-title pull-right\"}))"
      ],
      "metadata": {
        "colab": {
          "base_uri": "https://localhost:8080/"
        },
        "id": "uDlVcVCZm4nQ",
        "outputId": "6df58b1c-c6ff-43d9-e664-f40656c16ed2"
      },
      "execution_count": null,
      "outputs": [
        {
          "output_type": "stream",
          "name": "stdout",
          "text": [
            "<h4 class=\"float-end price card-title pull-right\">$69.99</h4>\n"
          ]
        }
      ]
    },
    {
      "cell_type": "code",
      "source": [
        "tag=soup.div.p\n",
        "print(tag.string)\n",
        "print()"
      ],
      "metadata": {
        "colab": {
          "base_uri": "https://localhost:8080/"
        },
        "id": "fcXgnv92n-U6",
        "outputId": "77bb4b3a-f124-4fa1-9f50-9a848a09973b"
      },
      "execution_count": null,
      "outputs": [
        {
          "output_type": "stream",
          "name": "stdout",
          "text": [
            "Web Scraper\n",
            "\n"
          ]
        }
      ]
    },
    {
      "cell_type": "code",
      "source": [
        "import requests\n",
        "import pandas as pd\n",
        "from bs4 import BeautifulSoup\n",
        "\n",
        "url=\"https://webscraper.io/test-sites/e-commerce/allinone/computers/tablets\"\n",
        "r= requests.get(url)\n",
        "soup = BeautifulSoup(r.text,\"lxml\")\n",
        "names= soup.find_all(\"a\", class_ = \"title\")\n",
        "print(names)\n",
        "product_name = []\n",
        "for i in names:\n",
        "  product_name.append(i.text)\n",
        "print(product_name)\n",
        "\n",
        "df=pd.DataFrame({\"product Name:\":product_name})\n",
        "df.to_csv(\"product.csv\")"
      ],
      "metadata": {
        "id": "jPLk-tNM2Y2k",
        "colab": {
          "base_uri": "https://localhost:8080/"
        },
        "outputId": "35aa71bc-5e1f-4238-f4d6-159030bc72cd"
      },
      "execution_count": null,
      "outputs": [
        {
          "output_type": "stream",
          "name": "stdout",
          "text": [
            "[<a class=\"title\" href=\"/test-sites/e-commerce/allinone/product/495\" title=\"Lenovo IdeaTab\">Lenovo IdeaTab</a>, <a class=\"title\" href=\"/test-sites/e-commerce/allinone/product/500\" title=\"IdeaTab A3500L\">IdeaTab A3500L</a>, <a class=\"title\" href=\"/test-sites/e-commerce/allinone/product/496\" title=\"Acer Iconia\">Acer Iconia</a>, <a class=\"title\" href=\"/test-sites/e-commerce/allinone/product/503\" title=\"Galaxy Tab 3\">Galaxy Tab 3</a>, <a class=\"title\" href=\"/test-sites/e-commerce/allinone/product/512\" title=\"Iconia B1-730HD\">Iconia B1-730H...</a>, <a class=\"title\" href=\"/test-sites/e-commerce/allinone/product/508\" title=\"Memo Pad HD 7\">Memo Pad HD 7</a>, <a class=\"title\" href=\"/test-sites/e-commerce/allinone/product/497\" title=\"Asus MeMO Pad\">Asus MeMO Pad</a>, <a class=\"title\" href=\"/test-sites/e-commerce/allinone/product/498\" title=\"Amazon Kindle\">Amazon Kindle</a>, <a class=\"title\" href=\"/test-sites/e-commerce/allinone/product/507\" title=\"Galaxy Tab 3\">Galaxy Tab 3</a>, <a class=\"title\" href=\"/test-sites/e-commerce/allinone/product/513\" title=\"IdeaTab A8-50\">IdeaTab A8-50</a>, <a class=\"title\" href=\"/test-sites/e-commerce/allinone/product/505\" title=\"MeMO Pad 7\">MeMO Pad 7</a>, <a class=\"title\" href=\"/test-sites/e-commerce/allinone/product/502\" title=\"IdeaTab A3500-H\">IdeaTab A3500-...</a>, <a class=\"title\" href=\"/test-sites/e-commerce/allinone/product/511\" title=\"IdeaTab S5000\">IdeaTab S5000</a>, <a class=\"title\" href=\"/test-sites/e-commerce/allinone/product/506\" title=\"Galaxy Tab 4\">Galaxy Tab 4</a>, <a class=\"title\" href=\"/test-sites/e-commerce/allinone/product/501\" title=\"Galaxy Tab\">Galaxy Tab</a>, <a class=\"title\" href=\"/test-sites/e-commerce/allinone/product/510\" title=\"MeMo PAD FHD 10\">MeMo PAD FHD 1...</a>, <a class=\"title\" href=\"/test-sites/e-commerce/allinone/product/514\" title=\"Galaxy Note\">Galaxy Note</a>, <a class=\"title\" href=\"/test-sites/e-commerce/allinone/product/504\" title=\"Galaxy Note\">Galaxy Note</a>, <a class=\"title\" href=\"/test-sites/e-commerce/allinone/product/499\" title=\"iPad Mini Retina\">iPad Mini Reti...</a>, <a class=\"title\" href=\"/test-sites/e-commerce/allinone/product/509\" title=\"Galaxy Note 10.1\">Galaxy Note 10...</a>, <a class=\"title\" href=\"/test-sites/e-commerce/allinone/product/515\" title=\"Apple iPad Air\">Apple iPad Air</a>]\n",
            "['Lenovo IdeaTab', 'IdeaTab A3500L', 'Acer Iconia', 'Galaxy Tab 3', 'Iconia B1-730H...', 'Memo Pad HD 7', 'Asus MeMO Pad', 'Amazon Kindle', 'Galaxy Tab 3', 'IdeaTab A8-50', 'MeMO Pad 7', 'IdeaTab A3500-...', 'IdeaTab S5000', 'Galaxy Tab 4', 'Galaxy Tab', 'MeMo PAD FHD 1...', 'Galaxy Note', 'Galaxy Note', 'iPad Mini Reti...', 'Galaxy Note 10...', 'Apple iPad Air']\n"
          ]
        }
      ]
    },
    {
      "cell_type": "code",
      "source": [
        "import requests\n",
        "import pandas as pd\n",
        "from bs4 import BeautifulSoup\n",
        "\n",
        "url = \"https://www.iplt20.com/auction\"\n",
        "r= requests.get(url)\n",
        "\n",
        "soup = BeautifulSoup(r.text,\"lxml\")\n",
        "table =  soup.find(\"table\",class_=\"ih-td-tab auction-tbl\")\n",
        " # print(table)\n",
        "header = table.find_all(\"th\")\n",
        "# print(header)\n",
        "titles = []\n",
        "for i in header:\n",
        "  #title = i.text\n",
        "  titles.append(i.text)\n",
        "print(titles)\n",
        "\n",
        "df=pd.DataFrame(columns = titles)\n",
        "print(df)\n",
        "\n",
        "rows = table.find_all(\"tr\")\n",
        "\n",
        "for i in rows[1:]:\n",
        "  first_row = i.find_all(\"td\")[0].find(\"div\",class_=\"ih-pt-ic\").text.strip()\n",
        "  data=i.find_all(\"td\")[1:]\n",
        "  row=[tr.text for tr in data]\n",
        "  row.insert(0,first_row)\n",
        "  # print(row)\n",
        "  l=len(df)\n",
        "  df.loc[l]=row\n",
        "print(df)\n",
        "\n",
        "df.to_csv(\" IPL 2024 \")"
      ],
      "metadata": {
        "id": "jVwMOqHqE28R",
        "colab": {
          "base_uri": "https://localhost:8080/"
        },
        "outputId": "7b8c994f-8ea3-4871-d6f4-9cda20ab92b3"
      },
      "execution_count": null,
      "outputs": [
        {
          "output_type": "stream",
          "name": "stdout",
          "text": [
            "['TEAM', 'FUNDS REMAINING', 'OVERSEAS PLAYERS ', 'TOTAL PLAYERS']\n",
            "Empty DataFrame\n",
            "Columns: [TEAM, FUNDS REMAINING, OVERSEAS PLAYERS , TOTAL PLAYERS]\n",
            "Index: []\n",
            "                          TEAM FUNDS REMAINING OVERSEAS PLAYERS  TOTAL PLAYERS\n",
            "0          Chennai Super Kings    ₹1,00,00,000                 8            25\n",
            "1               Delhi Capitals    ₹9,90,00,000                 8            25\n",
            "2               Gujarat Titans    ₹7,85,00,000                 8            25\n",
            "3        Kolkata Knight Riders    ₹1,35,00,000                 8            23\n",
            "4         Lucknow Super Giants      ₹95,00,000                 8            25\n",
            "5               Mumbai Indians    ₹1,05,00,000                 8            25\n",
            "6                 Punjab Kings    ₹4,15,00,000                 8            25\n",
            "7             Rajasthan Royals      ₹20,00,000                 8            22\n",
            "8  Royal Challengers Bangalore    ₹2,85,00,000                 8            25\n",
            "9          Sunrisers Hyderabad    ₹3,20,00,000                 8            25\n"
          ]
        }
      ]
    },
    {
      "cell_type": "code",
      "source": [
        "import requests\n",
        "from bs4 import BeautifulSoup\n",
        "\n",
        "url=\"https://www.flipkart.com/search?q=mobiles+under+50000&sid=tyy%2C4io&as=on&as-show=on&otracker=AS_QueryStore_OrganicAutoSuggest_2_16_na_na_ps&otracker1=AS_QueryStore_OrganicAutoSuggest_2_16_na_na_ps&as-pos=2&as-type=RECENT&suggestionId=mobiles+under+50000%7CMobiles&requestId=b641ca12-9115-4dcc-86db-9907cbc63b5f&as-searchtext=mobiles%20under%2050\"\n",
        "r=requests.get(url)\n",
        "print(r)"
      ],
      "metadata": {
        "colab": {
          "base_uri": "https://localhost:8080/"
        },
        "id": "TmNcvBU1T68t",
        "outputId": "890741ca-7f76-43b2-f0a1-7fefc2b15df6"
      },
      "execution_count": null,
      "outputs": [
        {
          "output_type": "stream",
          "name": "stdout",
          "text": [
            "<Response [500]>\n"
          ]
        }
      ]
    },
    {
      "cell_type": "code",
      "source": [],
      "metadata": {
        "id": "G0DhQF4LzF2-"
      },
      "execution_count": null,
      "outputs": []
    }
  ]
}